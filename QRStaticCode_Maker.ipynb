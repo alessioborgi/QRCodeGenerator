{
 "cells": [
  {
   "cell_type": "markdown",
   "id": "b6f2a4fb",
   "metadata": {},
   "source": [
    "# QRCodeStaticCode Maker\n",
    "\n",
    "@alessioborgi\n",
    "\n",
    "QRStaticCode allows you to creating static, unlimited-use QR codes with custom styles, embedded icons, and optional captions.\n"
   ]
  },
  {
   "cell_type": "markdown",
   "id": "2019d86f",
   "metadata": {},
   "source": [
    "### 1: IMPORTING LIBRARIES"
   ]
  },
  {
   "cell_type": "code",
   "execution_count": null,
   "id": "e954206a",
   "metadata": {},
   "outputs": [],
   "source": [
    "from qrcode import QRCode\n",
    "from qrcode.image.styledpil import StyledPilImage\n",
    "from qrcode.image.styles.moduledrawers import RoundedModuleDrawer\n",
    "from qrcode.image.styles.colormasks import SolidFillColorMask\n",
    "from PIL import Image, ImageDraw, ImageFont"
   ]
  },
  {
   "cell_type": "markdown",
   "id": "d182cfe1",
   "metadata": {},
   "source": [
    "### 2: FUNCTIONS DEFINITION"
   ]
  },
  {
   "cell_type": "code",
   "execution_count": null,
   "id": "1e132fd2",
   "metadata": {},
   "outputs": [],
   "source": [
    "def generate_stylish_qr(\n",
    "    url: str,                                   # URL to encode.\n",
    "    output_path: str = \"qr_with_text.png\",      # Output file path.\n",
    "    box_size: int = 20,                         # Size of each QR module in pixels.\n",
    "    border: int = 4,                            # Size of the border (minimum is 4).\n",
    "    fill_color: str = \"#1f2937\",              # QR module color.\n",
    "    back_color: str = \"white\",                  # Background color.\n",
    "    icon_path: str = None,                      # Path to icon image (optional).\n",
    "    icon_color: str = None,                     # Tint color for icon (defaults to fill_color).\n",
    "    icon_size_ratio: float = 0.25,              # Icon size as a fraction of QR size.\n",
    "    icon_border: int = 10,                      # Space between icon and QR modules.\n",
    "    caption: str = None,                        # Caption text (optional).\n",
    "    font_path: str = None,                      # Path to TTF font file (optional).\n",
    "    font_size: int = 24,                        # Font size for caption.\n",
    "    caption_color: str = \"#1f2937\",           # Caption text color.\n",
    "    caption_padding: int = 10                   # Space between QR and text.\n",
    "):\n",
    "    # 1) Build the QR code.\n",
    "    qr = QRCode(\n",
    "        error_correction=QRCode.ERROR_CORRECT_H,\n",
    "        box_size=box_size,\n",
    "        border=border,\n",
    "    )\n",
    "    qr.add_data(url)\n",
    "    qr.make(fit=True)\n",
    "\n",
    "    # 2) Render it with rounded modules.\n",
    "    qr_img = qr.make_image(\n",
    "        image_factory=StyledPilImage,\n",
    "        module_drawer=RoundedModuleDrawer(),\n",
    "        color_mask=SolidFillColorMask(front_color=fill_color, back_color=back_color)\n",
    "    ).convert(\"RGBA\")\n",
    "\n",
    "    # 3) (Optional) Overlay icon.\n",
    "    if icon_path:\n",
    "        w, h = qr_img.size\n",
    "        icon = Image.open(icon_path).convert(\"RGBA\")\n",
    "\n",
    "        # Recolor the icon to icon_color (or fill_color by default).\n",
    "        tint = icon_color or fill_color\n",
    "        # Extract alpha channel as mask.\n",
    "        _, _, _, alpha = icon.split()\n",
    "        # Create a solid‐color image, then apply the original icon's alpha.\n",
    "        colored_icon = Image.new(\"RGBA\", icon.size, tint)\n",
    "        colored_icon.putalpha(alpha)\n",
    "        icon = colored_icon\n",
    "\n",
    "        # Resize to fit.\n",
    "        icon_w = int(w * icon_size_ratio)\n",
    "        icon = icon.resize((icon_w, icon_w), Image.ANTIALIAS)\n",
    "\n",
    "        # Clear a circle behind it.\n",
    "        draw = ImageDraw.Draw(qr_img)\n",
    "        cx, cy = w // 2, h // 2\n",
    "        r = icon_w // 2 + icon_border\n",
    "        draw.ellipse((cx-r, cy-r, cx+r, cy+r), fill=back_color)\n",
    "\n",
    "        # Paste tinted icon.\n",
    "        qr_img.paste(icon, (cx - icon_w//2, cy - icon_w//2), icon)\n",
    "\n",
    "    # 4) If no caption, just save.\n",
    "    if not caption:\n",
    "        qr_img.save(output_path)\n",
    "        print(f\"Saved QR to {output_path}\")\n",
    "        return\n",
    "\n",
    "    # 5) Load font (fallback to default).\n",
    "    try:\n",
    "        font = ImageFont.truetype(font_path or \"\", font_size)\n",
    "    except Exception:\n",
    "        font = ImageFont.load_default()\n",
    "\n",
    "    # 6) Measure text.\n",
    "    draw_dummy = ImageDraw.Draw(qr_img)\n",
    "    text_w, text_h = draw_dummy.textsize(caption, font=font)\n",
    "\n",
    "    # 7) Create new canvas taller by text height + padding.\n",
    "    qr_w, qr_h = qr_img.size\n",
    "    new_h = qr_h + caption_padding + text_h\n",
    "    canvas = Image.new(\"RGBA\", (qr_w, new_h), back_color)\n",
    "\n",
    "    # 8) Paste QR at top.\n",
    "    canvas.paste(qr_img, (0, 0))\n",
    "\n",
    "    # 9) Draw caption centered.\n",
    "    draw = ImageDraw.Draw(canvas)\n",
    "    x = (qr_w - text_w) // 2\n",
    "    y = qr_h + caption_padding\n",
    "    draw.text((x, y), caption, font=font, fill=caption_color)\n",
    "\n",
    "    # 10) Save.\n",
    "    canvas.save(output_path)\n",
    "    print(f\"Saved QR with caption to {output_path}\")\n"
   ]
  },
  {
   "cell_type": "markdown",
   "id": "cc5f4258",
   "metadata": {},
   "source": [
    "### 3: MAIN (EXAMPLE USAGE)"
   ]
  },
  {
   "cell_type": "code",
   "execution_count": null,
   "id": "868bfe98",
   "metadata": {},
   "outputs": [],
   "source": [
    "url = \"https://alessioborgi.github.io/Z-SASLM.github.io/\"          # URL to encode.                    \n",
    "output_path: str = \"Z-SASLM_QR_Code.png\"                           # Output file path.\n",
    "fill_color: str = \"#1f2937\",                                     # QR module color.   \n",
    "icon_path: str = None,                      # Path to icon image (optional).\n",
    "icon_size_ratio: float = 0.25,              # Icon size as a fraction of QR size.\n",
    "icon_border: int = 10,                      # Space between icon and QR modules.\n",
    "caption: str = None,                        # Caption text (optional).\n",
    "font_path: str = None,                      # Path to TTF font file (optional).\n",
    "font_size: int = 24,                        # Font size for caption.    \n",
    "caption_color: str = \"#1f2937\",           # Caption text color. \n",
    "caption_padding: int = 10                   # Space between QR and text.\n",
    "\n",
    "\n",
    "# Other optional parameters.\n",
    "box_size = 20                                                # Size of each QR module in pixels. \n",
    "border = 4                            # Size of the border (minimum is 4).  \n",
    "back_color: str = \"white\",                                      # Background color.    \n",
    "icon_color = None,    # Tint color for icon (defaults to fill_color)."
   ]
  },
  {
   "cell_type": "code",
   "execution_count": null,
   "id": "cc58cbfa",
   "metadata": {},
   "outputs": [],
   "source": [
    "\n",
    "# Example usage:\n",
    "if __name__ == \"__main__\":\n",
    "    generate_stylish_qr(\n",
    "        url=\"https://example.com\",\n",
    "        icon_path=\"globe.png\",\n",
    "        caption=\"Scan Me!\",\n",
    "        font_path=\"/usr/share/fonts/truetype/dejavu/DejaVuSans-Bold.ttf\",\n",
    "        font_size=32\n",
    "    )\n"
   ]
  }
 ],
 "metadata": {
  "language_info": {
   "name": "python"
  }
 },
 "nbformat": 4,
 "nbformat_minor": 5
}
