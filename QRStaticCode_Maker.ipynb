{
 "cells": [
  {
   "cell_type": "markdown",
   "id": "b6f2a4fb",
   "metadata": {},
   "source": [
    "# QRCodeStaticCode Maker\n",
    "\n",
    "@alessioborgi\n",
    "\n",
    "QRStaticCode allows you to creating static, unlimited-use QR codes with custom styles, embedded icons, and optional captions.\n"
   ]
  },
  {
   "cell_type": "markdown",
   "id": "2019d86f",
   "metadata": {},
   "source": [
    "### 1: IMPORTING LIBRARIES"
   ]
  },
  {
   "cell_type": "code",
   "execution_count": 312,
   "id": "4b194100",
   "metadata": {},
   "outputs": [
    {
     "name": "stdout",
     "output_type": "stream",
     "text": [
      "Defaulting to user installation because normal site-packages is not writeable\n",
      "Requirement already satisfied: qrcode[pil] in /Users/alessioborgi/Library/Python/3.9/lib/python/site-packages (8.2)\n",
      "Requirement already satisfied: Pillow in /Users/alessioborgi/Library/Python/3.9/lib/python/site-packages (11.2.1)\n",
      "\u001b[33mWARNING: You are using pip version 21.2.4; however, version 25.1.1 is available.\n",
      "You should consider upgrading via the '/Library/Developer/CommandLineTools/usr/bin/python3 -m pip install --upgrade pip' command.\u001b[0m\n"
     ]
    }
   ],
   "source": [
    "import sys\n",
    "!{sys.executable} -m pip install \"qrcode[pil]\" Pillow\n"
   ]
  },
  {
   "cell_type": "code",
   "execution_count": null,
   "id": "e954206a",
   "metadata": {},
   "outputs": [],
   "source": [
    "from qrcode import QRCode\n",
    "from qrcode.constants import ERROR_CORRECT_H\n",
    "from qrcode.image.styledpil import StyledPilImage\n",
    "from qrcode.image.styles.moduledrawers import RoundedModuleDrawer\n",
    "from qrcode.image.styles.colormasks import SolidFillColorMask\n",
    "from PIL import Image, ImageDraw, ImageFont, ImageColor\n",
    "import os, PIL"
   ]
  },
  {
   "cell_type": "markdown",
   "id": "d182cfe1",
   "metadata": {},
   "source": [
    "### 2: FUNCTIONS DEFINITION"
   ]
  },
  {
   "cell_type": "code",
   "execution_count": null,
   "id": "1e132fd2",
   "metadata": {},
   "outputs": [],
   "source": [
    "def generate_stylish_qr(\n",
    "    url: str,                                       # URL to encode.     \n",
    "    output_path: str = \"qr_with_text.png\",          # output file.\n",
    "    box_size: int = 20,\n",
    "    border: int = 4,\n",
    "    fill_color: str = \"#1f2937\",\n",
    "    back_color: str = \"white\",\n",
    "    icon_path: str = None,\n",
    "    icon_color: str = None,\n",
    "    icon_size_ratio: float = 0.25,\n",
    "    icon_border: int = 30,\n",
    "    caption: str = None,\n",
    "    font_path: str = None,\n",
    "    font_size: int = None,\n",
    "    caption_size_ratio: float = 0.30,   # 30% of QR width\n",
    "    caption_color: str = \"#1f2937\",\n",
    "    caption_padding: int = 4,\n",
    "    caption_offset: int = -20            # negative = into QR’s bottom border\n",
    "):\n",
    "    # normalize colors to (R,G,B)\n",
    "    def norm_rgb(c):\n",
    "        if isinstance(c, (tuple,list)) and len(c)==1: c=c[0]\n",
    "        return ImageColor.getrgb(c) if isinstance(c,str) else c\n",
    "\n",
    "    fc, bc = norm_rgb(fill_color), norm_rgb(back_color)\n",
    "    ic, cc = norm_rgb(icon_color or fill_color), norm_rgb(caption_color)\n",
    "\n",
    "    # 1) Build QR\n",
    "    qr = QRCode(error_correction=ERROR_CORRECT_H, box_size=box_size, border=border)\n",
    "    qr.add_data(url)\n",
    "    qr.make(fit=True)\n",
    "\n",
    "    # 2) Render modules\n",
    "    qr_img = qr.make_image(\n",
    "        image_factory=StyledPilImage,\n",
    "        module_drawer=RoundedModuleDrawer(),\n",
    "        color_mask=SolidFillColorMask(front_color=fc, back_color=bc)\n",
    "    ).convert(\"RGBA\")\n",
    "    qr_w, qr_h = qr_img.size\n",
    "\n",
    "    # 3) Overlay tinted icon silhouette (unchanged)\n",
    "    if icon_path:\n",
    "        icon = Image.open(icon_path).convert(\"RGBA\")\n",
    "        mask = icon.convert(\"L\").point(lambda x:255 if x<250 else 0)\n",
    "        r,g,b = ic\n",
    "        tinted = Image.new(\"RGBA\", icon.size, (r,g,b,255))\n",
    "        tinted.putalpha(mask)\n",
    "\n",
    "        icon_px = int(qr_w * icon_size_ratio)\n",
    "        tinted = tinted.resize((icon_px, icon_px), Image.Resampling.LANCZOS)\n",
    "\n",
    "        draw_qr = ImageDraw.Draw(qr_img)\n",
    "        cx, cy = qr_w//2, qr_h//2\n",
    "        rad = icon_px//2 + icon_border\n",
    "        draw_qr.ellipse([cx-rad, cy-rad, cx+rad, cy+rad], fill=bc)\n",
    "\n",
    "        qr_img.paste(tinted, (cx-icon_px//2, cy-icon_px//2), tinted)\n",
    "\n",
    "    # 4) If no caption, done.\n",
    "    if not caption:\n",
    "        qr_img.save(output_path)\n",
    "        print(f\"Saved QR → {output_path}\")\n",
    "        return\n",
    "\n",
    "    # 5) Compute font_size from ratio if not given\n",
    "    if font_size is None:\n",
    "        font_size = max(12, int(qr_w * caption_size_ratio))\n",
    "\n",
    "    # 6) Load a real TTF (user’s or PIL’s DejaVuSans), else fallback\n",
    "    font = None\n",
    "    if font_path:\n",
    "        try: font = ImageFont.truetype(font_path, font_size)\n",
    "        except: font = None\n",
    "    if font is None:\n",
    "        try:\n",
    "            pil_fonts = os.path.join(os.path.dirname(PIL.__file__), \"Fonts\")\n",
    "            font = ImageFont.truetype(os.path.join(pil_fonts, \"DejaVuSans.ttf\"), font_size)\n",
    "        except:\n",
    "            font = ImageFont.load_default()\n",
    "\n",
    "    # 7) Measure caption\n",
    "    drawer = ImageDraw.Draw(qr_img)\n",
    "    x0,y0,x1,y1 = drawer.textbbox((0,0), caption, font=font)\n",
    "    text_w, text_h = x1-x0, y1-y0\n",
    "\n",
    "    # 8) Create canvas just tall enough\n",
    "    final_h = qr_h + caption_padding + text_h\n",
    "    canvas = Image.new(\"RGBA\", (qr_w, final_h), bc)\n",
    "    canvas.paste(qr_img, (0,0))\n",
    "\n",
    "    # 9) Draw caption at true offset\n",
    "    draw = ImageDraw.Draw(canvas)\n",
    "    tx = (qr_w - text_w)//2\n",
    "    ty = qr_h + caption_padding + caption_offset\n",
    "    draw.text((tx, ty), caption, font=font, fill=cc)\n",
    "\n",
    "    # 10) Save\n",
    "    canvas.save(output_path)\n",
    "    print(f\"Saved QR + caption → {output_path}\")\n"
   ]
  },
  {
   "cell_type": "markdown",
   "id": "cc5f4258",
   "metadata": {},
   "source": [
    "### 3: MAIN (EXAMPLE USAGE)"
   ]
  },
  {
   "cell_type": "code",
   "execution_count": 315,
   "id": "868bfe98",
   "metadata": {},
   "outputs": [],
   "source": [
    "# Main parameters.\n",
    "# URL to encode, output path, and colors.\n",
    "url = \"https://alessioborgi.github.io/Z-SASLM.github.io/\"          # URL to encode.                    \n",
    "output_path = \"./results/Z-SASLM_QR_Code.png\"                      # Output file path.\n",
    "fill_color = \"#1f2937\"                                           # QR module color.   \n",
    "icon_path = \"./icons/home.png\"                                     # Path to icon image (optional).\n",
    "caption = \"HomePage\"                                               # Caption text (optional).                  \n",
    "caption_color = \"#1f2937\"                                        # Caption text color. \n",
    "\n",
    "\n",
    "# Other optional parameters (here they are set as default).\n",
    "box_size = 20                           # Size of each QR module in pixels. \n",
    "border = 4                              # Size of the border (minimum is 4).  \n",
    "back_color = \"white\"                    # Background color.    \n",
    "icon_color = None                       # Tint color for icon (defaults to fill_color).\n",
    "icon_size_ratio = 0.25                  # Icon size as a fraction of QR size.\n",
    "icon_border = 30                        # Space between icon and QR modules.\n",
    "font_size = 2000                        # Font size for caption.    \n",
    "caption_padding = 2                     # Space between QR and text.\n",
    "caption_size_ratio=0.10                 # Caption size as a fraction of QR size.\n",
    "caption_offset=-70                      # Offset for caption position (positive = down, negative = up).\n",
    "font_path=\"/Library/Fonts/Ayuthaya.ttf\" # Path to font file (optional).\n"
   ]
  },
  {
   "cell_type": "code",
   "execution_count": 316,
   "id": "cc58cbfa",
   "metadata": {},
   "outputs": [
    {
     "name": "stdout",
     "output_type": "stream",
     "text": [
      "Saved QR + caption → ./results/Z-SASLM_QR_Code.png\n"
     ]
    }
   ],
   "source": [
    "if __name__ == \"__main__\":\n",
    "    generate_stylish_qr(\n",
    "        url=url,\n",
    "        output_path=output_path,\n",
    "        fill_color=fill_color,\n",
    "        back_color=back_color,\n",
    "        icon_path=icon_path,\n",
    "        icon_size_ratio=icon_size_ratio,\n",
    "        icon_border=icon_border,\n",
    "        caption=caption,\n",
    "        font_path=font_path,\n",
    "        caption_size_ratio=caption_size_ratio,        \n",
    "        caption_padding=caption_padding,        \n",
    "        caption_offset=caption_offset           \n",
    "    )\n"
   ]
  }
 ],
 "metadata": {
  "kernelspec": {
   "display_name": "Python 3",
   "language": "python",
   "name": "python3"
  },
  "language_info": {
   "codemirror_mode": {
    "name": "ipython",
    "version": 3
   },
   "file_extension": ".py",
   "mimetype": "text/x-python",
   "name": "python",
   "nbconvert_exporter": "python",
   "pygments_lexer": "ipython3",
   "version": "3.9.6"
  }
 },
 "nbformat": 4,
 "nbformat_minor": 5
}
